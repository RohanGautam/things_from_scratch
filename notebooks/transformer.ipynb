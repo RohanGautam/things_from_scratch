{
 "cells": [
  {
   "cell_type": "markdown",
   "metadata": {},
   "source": [
    "## attention is all you need\n",
    "\n",
    "<p align=\"center\">\n",
    "    <img src=\"./images/transformer.png\" alt=\"transformer architecture\" width=\"400\"/>\n",
    "</p>\n"
   ]
  },
  {
   "cell_type": "code",
   "execution_count": 34,
   "metadata": {},
   "outputs": [],
   "source": [
    "import torch\n",
    "import torch.nn as nn\n",
    "import torch.nn.functional as F\n",
    "import matplotlib.pyplot as plt\n",
    "import numpy as np"
   ]
  },
  {
   "cell_type": "code",
   "execution_count": 2,
   "metadata": {},
   "outputs": [
    {
     "name": "stdout",
     "output_type": "stream",
     "text": [
      "torch.Size([5])\n",
      "torch.Size([5, 512])\n"
     ]
    }
   ],
   "source": [
    "class InputEmbedding(nn.Module):\n",
    "    def __init__(self, d_model: int, vocab_size: int) -> None:\n",
    "        super().__init__()\n",
    "        # the embedding dimension, called d_model in the attention is all you need paper.\n",
    "        self.d_model = d_model\n",
    "        self.vocab_size = vocab_size\n",
    "        # nn.Embedding maps indices (here, indices of words in the vocabulary) to the same\n",
    "        # tensor (a key-value lookup). The embeddings themselves are learnt as part of the model training.\n",
    "        # num_embeddings is same as vocab size, as an embedding is learnt for each item in the vocabulary\n",
    "        self.emb = nn.Embedding(num_embeddings=vocab_size, embedding_dim=d_model)\n",
    "\n",
    "    def forward(self, indices):\n",
    "        return self.emb(indices) * np.sqrt(self.d_model)\n",
    "\n",
    "\n",
    "indices = torch.tensor([1, 123, 678, 21, 90])\n",
    "ie = InputEmbedding(512, 10_000)\n",
    "out = ie(indices)\n",
    "print(indices.shape)\n",
    "print(out.shape)"
   ]
  },
  {
   "cell_type": "code",
   "execution_count": 3,
   "metadata": {},
   "outputs": [
    {
     "data": {
      "text/plain": [
       "tensor([0.0000, 0.0000, 1.1098, 0.0000, 0.5565, 0.1319, 1.1614, 0.8198, 0.9523,\n",
       "        0.0000])"
      ]
     },
     "execution_count": 3,
     "metadata": {},
     "output_type": "execute_result"
    }
   ],
   "source": [
    "d = nn.Dropout(0.3)\n",
    "# will zero ~3 elements at random. Used for regularisation during training\n",
    "t = torch.rand(10)\n",
    "d(t)"
   ]
  },
  {
   "cell_type": "code",
   "execution_count": 4,
   "metadata": {},
   "outputs": [
    {
     "data": {
      "text/plain": [
       "10000.0"
      ]
     },
     "execution_count": 4,
     "metadata": {},
     "output_type": "execute_result"
    }
   ],
   "source": [
    "1e4"
   ]
  },
  {
   "cell_type": "code",
   "execution_count": 15,
   "metadata": {},
   "outputs": [
    {
     "name": "stdout",
     "output_type": "stream",
     "text": [
      "torch.Size([1, 5])\n",
      "torch.Size([1, 5, 512])\n",
      "torch.Size([1, 5, 512])\n"
     ]
    }
   ],
   "source": [
    "class PositionalEncoding(nn.Module):\n",
    "    \"\"\"this is only defined once and used during training and inference\"\"\"\n",
    "\n",
    "    def __init__(self, d_model: int, seq_len: int, dropout: float) -> None:\n",
    "        super().__init__()\n",
    "        self.d_model = d_model\n",
    "        # maximum sequence length you expect to see, so that we can generate positional encodings\n",
    "        # upto that length\n",
    "        self.seq_len = seq_len\n",
    "        self.dropout = nn.Dropout(dropout)\n",
    "        # the positional encoding will be same dimension as the embedding for the sequence\n",
    "        self.pe = torch.zeros(seq_len, d_model)\n",
    "        self.set_positional_encoding()\n",
    "\n",
    "    def set_positional_encoding(self):\n",
    "        \"\"\"Positional encoding, as described in the paper: attention is all you need.\n",
    "        These can be predefined or learned, but the authors found no difference and chose this\n",
    "        as it would allow it to generalize over sequence lengths greater than ones seen during training.\n",
    "        \"\"\"\n",
    "        # pos from the paper\n",
    "        position = torch.arange(0, self.seq_len, 1, dtype=torch.float).unsqueeze(1)\n",
    "        # 2i from the paper: i is the dimension, here we operate on the even dimensions for both sin and cos\n",
    "        # we apply the sin'd and cos'd sequences to even and odd dimensions respectively\n",
    "        i_2 = torch.arange(0, self.d_model, 2)\n",
    "        # numerically stable way of computing 1/((10_000)^(2i/d_model)) from the paper\n",
    "        denominator = torch.exp((i_2 / self.d_model) * np.log(1e4))\n",
    "        # across all seq, just even,odd dimensions\n",
    "        self.pe[:, 0::2] = torch.sin(position / denominator)\n",
    "        self.pe[:, 1::2] = torch.cos(position / denominator)\n",
    "        # add batch dimension at start\n",
    "        # pe is (1,seq_len, d_model)\n",
    "        self.pe = self.pe.unsqueeze(0)\n",
    "        # # a buffer is part of a module's state (state_dict) when saved, but is not a parameter that is\n",
    "        # # tuned.\n",
    "        # self.register_buffer(\"pe\", self.pe)\n",
    "\n",
    "    def forward(self, x):\n",
    "        # x has a batch dimension\n",
    "        # x shape is (batch, seq_len, d_model)\n",
    "        # we add only the pe corresponding to x's sequence length\n",
    "        x += (self.pe[:, : x.shape[1], :]).requires_grad_(False)\n",
    "        # apply dropout\n",
    "        x = self.dropout(x)\n",
    "        return x\n",
    "\n",
    "\n",
    "indices = torch.tensor([1, 123, 678, 21, 90]).unsqueeze(0)  # with batch dim\n",
    "ie = InputEmbedding(512, 10_000)\n",
    "max_seq_len = 1000\n",
    "pe = PositionalEncoding(512, max_seq_len, 0.3)\n",
    "\n",
    "\n",
    "out = ie(indices)\n",
    "print(indices.shape)\n",
    "print(out.shape)\n",
    "out_pe = pe(out)\n",
    "print(out_pe.shape)"
   ]
  },
  {
   "cell_type": "code",
   "execution_count": 25,
   "metadata": {},
   "outputs": [
    {
     "data": {
      "text/plain": [
       "torch.Size([32, 100, 3])"
      ]
     },
     "execution_count": 25,
     "metadata": {},
     "output_type": "execute_result"
    }
   ],
   "source": [
    "# In batchnorm, we calculate the mean, std dev across the batch dimension, ie, statistics\n",
    "# across the batch, one per feature. after normalisation, we do an affine transform\n",
    "# (m,b from y=mx+b), and m,b are learnable. this is so that it doesnt necessarily stick to zero mean\n",
    "# and unit variance (which would limit model expressivity).\n",
    "# But batchnorm will get representative mean,var only if batch size is a good enough size. Layernorm\n",
    "# is batch size independant, and the mean,var is calculated across all features, for each input example independantly,\n",
    "# and also applied to that input example alone independantly. It's used in transformers, rnn, etc\n",
    "# where batch sizes may vary. see https://arxiv.org/abs/1607.06450\n",
    "# note this has nothing to do with neural netowork layers, just the way it's applied to the data within the network\n",
    "class LayerNorm(nn.Module):\n",
    "    def __init__(self, eps=1e-7) -> None:\n",
    "        super().__init__()\n",
    "        self.eps = eps\n",
    "        self.m = nn.Parameter(torch.tensor([1.0]))\n",
    "        self.c = nn.Parameter(torch.tensor([1.0]))\n",
    "\n",
    "    def forward(self, x):\n",
    "        # stats along the feature dimension\n",
    "        # can also do keepdim=True instead of collapsing along mean dimension and adding it later\n",
    "        mu = torch.mean(x, dim=-1).unsqueeze(-1)\n",
    "        std = torch.std(x, dim=-1).unsqueeze(-1)\n",
    "        # again, the learnable params m and c allow not nonzero mean and non-unit variance\n",
    "        return self.m * ((x - mu) / (std + self.eps)) + self.c\n",
    "\n",
    "\n",
    "t = torch.rand(32, 100, 3)\n",
    "ln = LayerNorm()\n",
    "ln(t).shape"
   ]
  },
  {
   "cell_type": "code",
   "execution_count": 33,
   "metadata": {},
   "outputs": [
    {
     "data": {
      "text/plain": [
       "torch.Size([32, 100, 512])"
      ]
     },
     "execution_count": 33,
     "metadata": {},
     "output_type": "execute_result"
    }
   ],
   "source": [
    "class FFN(nn.Module):\n",
    "    def __init__(self, d_model, n_hidden, dropout: float) -> None:\n",
    "        super().__init__()\n",
    "        # self.d_model = d_model\n",
    "        # self.n_hidden = n_hidden\n",
    "        self.net = nn.Sequential(\n",
    "            nn.Linear(d_model, n_hidden),\n",
    "            nn.ReLU(),\n",
    "            nn.Dropout(dropout),\n",
    "            nn.Linear(n_hidden, d_model),\n",
    "        )\n",
    "\n",
    "    def forward(self, x):\n",
    "        return self.net(x)\n",
    "\n",
    "\n",
    "# batch,n,dim\n",
    "# can give any number of examples (n)\n",
    "# features is what each neuron operates on and learns a function of them, for the output.\n",
    "t = torch.rand(32, 100, 512)\n",
    "ffn = FFN(512, 2048, 0.3)\n",
    "ffn(t).shape"
   ]
  },
  {
   "cell_type": "code",
   "execution_count": 68,
   "metadata": {},
   "outputs": [
    {
     "data": {
      "text/plain": [
       "torch.Size([32, 100, 512])"
      ]
     },
     "execution_count": 68,
     "metadata": {},
     "output_type": "execute_result"
    }
   ],
   "source": [
    "class MultiHeadAttention(nn.Module):\n",
    "    def __init__(self, d_model: int, n_heads: int, dropout: float):\n",
    "        super().__init__()\n",
    "        # the embedding dimension will be split into n_heads equal chunks, with\n",
    "        # each chunk (possibly) attending to it differently\n",
    "        assert d_model % n_heads == 0\n",
    "        self.dropout = nn.Dropout(dropout)\n",
    "        self.d_model = d_model\n",
    "        self.n_heads = n_heads\n",
    "        self.d_k = d_model // n_heads\n",
    "        self.Wk = nn.Linear(d_model, d_model)\n",
    "        self.Wq = nn.Linear(d_model, d_model)\n",
    "        self.Wv = nn.Linear(d_model, d_model)\n",
    "        self.Wo = nn.Linear(d_model, d_model)\n",
    "\n",
    "    @staticmethod\n",
    "    def attention(k, q, v, mask, dropout: nn.Dropout):\n",
    "        d_k = q.shape[-1]\n",
    "        # similarity (as a probability distribution) between what i have that is useful to other parts of me\n",
    "        # , and what i need. Scale by root of the multi head attention dimension\n",
    "        # shape is (batch, n_heads, seq_len, seq_len)\n",
    "        similarities: torch.Tensor = (k @ q.transpose(-1, -2)) / np.sqrt(d_k)\n",
    "        # mask_shape= (1, 1, seq_len, seq_len). make it a small value so softmax zeros it out\n",
    "        if mask:\n",
    "            # similarities[mask] = -torch.inf\n",
    "            similarities.masked_fill_(mask == 0, -torch.inf)\n",
    "        similarities_probability = F.softmax(similarities, dim=-1)\n",
    "        if dropout:\n",
    "            similarities_probability = dropout(similarities_probability)\n",
    "        # gather appropriate values as a weighted(weights learnt) sum\n",
    "        attention = similarities_probability @ v\n",
    "        # similarities_probability used for visualisation\n",
    "        return attention, similarities_probability\n",
    "\n",
    "    def forward(self, k, q, v, mask):\n",
    "        # for encoder, k,q,v all are input (x), but seperated it here because in the decoder, some might be form\n",
    "        # the encoder and some might be from the decoder\n",
    "        # x : (batch, seq_len, dim)\n",
    "        # https://youtu.be/XfpMkf4rD6E?list=LL&t=1472\n",
    "        # there are the (for me's) below as this is self attention\n",
    "        k = self.Wk(k)  # what info do i have that is useful (for me)\n",
    "        q = self.Wq(q)  # what info do i need (from me)?\n",
    "        v = self.Wv(v)  # what info I publicly reveal (to other parts of me)?\n",
    "\n",
    "        # split k,q,v along embedding dimension into h parts\n",
    "        # we want (batch, head, seq, d_k) : each head should see the whole seq\n",
    "        k = k.view(k.shape[0], k.shape[1], self.n_heads, self.d_k).transpose(1, 2)\n",
    "        q = q.view(q.shape[0], q.shape[1], self.n_heads, self.d_k).transpose(1, 2)\n",
    "        v = v.view(v.shape[0], v.shape[1], self.n_heads, self.d_k).transpose(1, 2)\n",
    "        mask = None\n",
    "        # out has a shape batch, heads, seq_len, dk\n",
    "        attention, self.similarity_prob = MultiHeadAttention.attention(\n",
    "            k, q, v, mask, self.dropout\n",
    "        )\n",
    "        # view requires the tensor to be in continuous memory, which transpose disturbs, so we make it contiguous after transpose\n",
    "        attention = (\n",
    "            attention.transpose(1, 2).contiguous().view(k.shape[0], -1, self.d_model)\n",
    "        )\n",
    "        output = self.Wo(attention)\n",
    "        return output\n",
    "\n",
    "\n",
    "t = torch.rand(32, 100, 512)\n",
    "mask = torch.ones(32, 100, 100)\n",
    "mha = MultiHeadAttention(512, 4, 0.3)\n",
    "# k,q,v all form the same input\n",
    "mha(t, t, t, mask).shape"
   ]
  },
  {
   "cell_type": "code",
   "execution_count": 46,
   "metadata": {},
   "outputs": [
    {
     "data": {
      "text/plain": [
       "512"
      ]
     },
     "execution_count": 46,
     "metadata": {},
     "output_type": "execute_result"
    }
   ],
   "source": [
    "l = nn.Linear(512, 512)\n",
    "len(list(l.parameters())[1])"
   ]
  },
  {
   "cell_type": "code",
   "execution_count": 55,
   "metadata": {},
   "outputs": [
    {
     "data": {
      "text/plain": [
       "torch.Size([32, 4, 100, 128])"
      ]
     },
     "execution_count": 55,
     "metadata": {},
     "output_type": "execute_result"
    }
   ],
   "source": [
    "t = torch.rand(32, 4, 100, 128)\n",
    "\n",
    "# q = torch.rand(512, 512)\n",
    "\n",
    "(F.softmax((t @ t.transpose(-1, -2)), dim=1) @ (torch.rand(32, 4, 100, 128))).shape"
   ]
  },
  {
   "cell_type": "code",
   "execution_count": 70,
   "metadata": {},
   "outputs": [],
   "source": [
    "class NormAndAdd(nn.Module):\n",
    "    def __init__(self, dropout: float):\n",
    "        super().__init__()\n",
    "        self.dropout = nn.Dropout(dropout)\n",
    "        self.norm = LayerNorm()\n",
    "\n",
    "    def forward(self, x, prev_layer):\n",
    "        # take the input to the previous layer, add it with the output of the previous layer (when fed in NORMALISED input)\n",
    "        # this is different from the add&norm in the original paper, and is one of the few improvements to the original architecture.\n",
    "        # the previous layer takes in normalised INPUT, not normalising the output. This prevents exploding gradients, etc and helps\n",
    "        # in better training dynamics\n",
    "        return self.dropout(prev_layer(self.norm(x))) + x"
   ]
  },
  {
   "cell_type": "code",
   "execution_count": 73,
   "metadata": {},
   "outputs": [
    {
     "data": {
      "text/plain": [
       "torch.Size([32, 100, 512])"
      ]
     },
     "execution_count": 73,
     "metadata": {},
     "output_type": "execute_result"
    }
   ],
   "source": [
    "class EncoderLayer(nn.Module):\n",
    "    def __init__(self, mha: MultiHeadAttention, ffn: FFN, dropout: float) -> None:\n",
    "        super().__init__()\n",
    "        self.mha = mha\n",
    "        self.ffn = ffn\n",
    "        # residual connections - two because they have seperate layernorms and layernorm parameters\n",
    "        self.rc1 = NormAndAdd(dropout)\n",
    "        self.rc2 = NormAndAdd(dropout)\n",
    "\n",
    "    def forward(self, x, src_mask):\n",
    "        out = self.rc1(x, lambda x: self.mha(x, x, x, src_mask))\n",
    "        out = self.rc2(out, self.ffn)\n",
    "        return out\n",
    "\n",
    "\n",
    "t = torch.rand(32, 100, 512)\n",
    "mask = torch.ones(32, 100, 100)\n",
    "mha = MultiHeadAttention(512, 4, 0.3)\n",
    "ffn = FFN(512, 2048, 0.3)\n",
    "ecl = EncoderLayer(mha, ffn, 0.3)\n",
    "\n",
    "ecl(t, mask).shape"
   ]
  },
  {
   "cell_type": "code",
   "execution_count": 77,
   "metadata": {},
   "outputs": [
    {
     "data": {
      "text/plain": [
       "torch.Size([32, 100, 512])"
      ]
     },
     "execution_count": 77,
     "metadata": {},
     "output_type": "execute_result"
    }
   ],
   "source": [
    "class Encoder(nn.Module):\n",
    "    def __init__(self, layers: nn.ModuleList):\n",
    "        super().__init__()\n",
    "        self.layers = layers\n",
    "        self.norm = LayerNorm()\n",
    "\n",
    "    def forward(self, x, src_mask):\n",
    "        for layer in self.layers:\n",
    "            x = self.norm(layer(x, src_mask))\n",
    "        return x\n",
    "\n",
    "\n",
    "t = torch.rand(32, 100, 512)\n",
    "mask = torch.ones(32, 100, 100)\n",
    "\n",
    "\n",
    "encoder = Encoder(\n",
    "    nn.ModuleList(\n",
    "        [\n",
    "            EncoderLayer(MultiHeadAttention(512, 4, 0.3), FFN(512, 2048, 0.3), 0.3)\n",
    "            for _ in range(10)\n",
    "        ]\n",
    "    )\n",
    ")\n",
    "\n",
    "encoder(t, mask).shape"
   ]
  }
 ],
 "metadata": {
  "kernelspec": {
   "display_name": "coral-agent",
   "language": "python",
   "name": "python3"
  },
  "language_info": {
   "codemirror_mode": {
    "name": "ipython",
    "version": 3
   },
   "file_extension": ".py",
   "mimetype": "text/x-python",
   "name": "python",
   "nbconvert_exporter": "python",
   "pygments_lexer": "ipython3",
   "version": "3.11.5"
  }
 },
 "nbformat": 4,
 "nbformat_minor": 2
}
