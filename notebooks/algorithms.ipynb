{
 "cells": [
  {
   "cell_type": "markdown",
   "metadata": {},
   "source": [
    "# Algorithms\n"
   ]
  },
  {
   "cell_type": "markdown",
   "metadata": {},
   "source": [
    "## search\n"
   ]
  },
  {
   "cell_type": "code",
   "execution_count": 14,
   "metadata": {},
   "outputs": [
    {
     "data": {
      "text/plain": [
       "([19, 77, 93, 5, 86, 45, 5, 27, 79, 44], 27)"
      ]
     },
     "execution_count": 14,
     "metadata": {},
     "output_type": "execute_result"
    }
   ],
   "source": [
    "import numpy as np\n",
    "\n",
    "items = list(np.random.randint(0, 100, size=10))\n",
    "q = items[7]\n",
    "items, q"
   ]
  },
  {
   "cell_type": "code",
   "execution_count": 15,
   "metadata": {},
   "outputs": [
    {
     "data": {
      "text/plain": [
       "7"
      ]
     },
     "execution_count": 15,
     "metadata": {},
     "output_type": "execute_result"
    }
   ],
   "source": [
    "def linear_search(l, q):\n",
    "    for i in range(len(l)):\n",
    "        if l[i] == q:\n",
    "            return i\n",
    "    return None\n",
    "\n",
    "\n",
    "linear_search(items, q)"
   ]
  },
  {
   "cell_type": "code",
   "execution_count": 17,
   "metadata": {},
   "outputs": [
    {
     "name": "stdout",
     "output_type": "stream",
     "text": [
      "[5, 5, 19, 27, 44, 45, 77, 79, 86, 93] 3\n"
     ]
    },
    {
     "data": {
      "text/plain": [
       "3"
      ]
     },
     "execution_count": 17,
     "metadata": {},
     "output_type": "execute_result"
    }
   ],
   "source": [
    "def binary_search(l, q):\n",
    "    s, e = 0, len(l)\n",
    "    while s < e:\n",
    "        m = (s + e) // 2\n",
    "        if q < l[m]:\n",
    "            e = m - 1\n",
    "        else:\n",
    "            s = m\n",
    "    if l[s] == q:\n",
    "        return s\n",
    "    return None\n",
    "\n",
    "\n",
    "sorted_items = sorted(items)\n",
    "print(sorted_items, sorted_items.index(q))\n",
    "linear_search(sorted_items, q)"
   ]
  },
  {
   "cell_type": "markdown",
   "metadata": {},
   "source": [
    "## sort\n"
   ]
  },
  {
   "cell_type": "code",
   "execution_count": 50,
   "metadata": {},
   "outputs": [
    {
     "data": {
      "text/plain": [
       "[33, 86, 63, 17, 6, 77, 43, 90, 39, 49]"
      ]
     },
     "execution_count": 50,
     "metadata": {},
     "output_type": "execute_result"
    }
   ],
   "source": [
    "import numpy as np\n",
    "from copy import deepcopy\n",
    "\n",
    "items = list(np.random.randint(0, 100, size=10))\n",
    "items"
   ]
  },
  {
   "cell_type": "code",
   "execution_count": 36,
   "metadata": {},
   "outputs": [
    {
     "data": {
      "text/plain": [
       "[4, 11, 19, 20, 25, 48, 64, 75, 93, 97]"
      ]
     },
     "execution_count": 36,
     "metadata": {},
     "output_type": "execute_result"
    }
   ],
   "source": [
    "def bubble_sort(l):\n",
    "    \"\"\"after each sorting pass, the last element in the list will be sorted\"\"\"\n",
    "    for i in range(len(l) - 1):\n",
    "        # since last 'i' elements will be sorted\n",
    "        for j in range(len(l) - i - 1):\n",
    "            if l[j] > l[j + 1]:\n",
    "                l[j], l[j + 1] = l[j + 1], l[j]\n",
    "    return l\n",
    "\n",
    "\n",
    "bubble_sort(deepcopy(items))"
   ]
  },
  {
   "cell_type": "code",
   "execution_count": 53,
   "metadata": {},
   "outputs": [
    {
     "data": {
      "text/plain": [
       "[6, 17, 33, 39, 43, 49, 63, 77, 86, 90]"
      ]
     },
     "execution_count": 53,
     "metadata": {},
     "output_type": "execute_result"
    }
   ],
   "source": [
    "def insertion_sort(l):\n",
    "    assert len(l) > 1\n",
    "    for i in range(1, len(l)):\n",
    "        # first i elements are sorted already\n",
    "        for j in range(i + 1):\n",
    "            if l[j] > l[i]:\n",
    "                break\n",
    "        # insert it at position j by shifting all the other elements\n",
    "        m = l[i]\n",
    "        for k in range(i, j - 1, -1):\n",
    "            l[k] = l[k - 1]\n",
    "        l[j] = m\n",
    "    return l\n",
    "\n",
    "\n",
    "insertion_sort(deepcopy(items))"
   ]
  },
  {
   "cell_type": "markdown",
   "metadata": {},
   "source": [
    "# greedy\n"
   ]
  },
  {
   "cell_type": "markdown",
   "metadata": {},
   "source": [
    "these are algorithms that take the immediately best available option, thats right in front of them. There are some examples where they produce the optimal solution. There can be multiple criterias for determining what comprises \"best\".\n"
   ]
  },
  {
   "cell_type": "code",
   "execution_count": null,
   "metadata": {},
   "outputs": [],
   "source": []
  }
 ],
 "metadata": {
  "kernelspec": {
   "display_name": "advent_of_code",
   "language": "python",
   "name": "python3"
  },
  "language_info": {
   "codemirror_mode": {
    "name": "ipython",
    "version": 3
   },
   "file_extension": ".py",
   "mimetype": "text/x-python",
   "name": "python",
   "nbconvert_exporter": "python",
   "pygments_lexer": "ipython3",
   "version": "3.9.19"
  }
 },
 "nbformat": 4,
 "nbformat_minor": 2
}
